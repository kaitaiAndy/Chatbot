{
 "cells": [
  {
   "cell_type": "markdown",
   "metadata": {},
   "source": [
    "# Using short QA pairs, we can achieve surprising results on the Cornell Dataset.\n",
    "\n",
    "## Import train/val sets"
   ]
  },
  {
   "cell_type": "code",
   "execution_count": null,
   "metadata": {},
   "outputs": [
    {
     "name": "stdout",
     "output_type": "stream",
     "text": [
      "showing info https://raw.githubusercontent.com/nltk/nltk_data/gh-pages/index.xml\n"
     ]
    }
   ],
   "source": [
    "import nltk \n",
    "nltk.download()"
   ]
  },
  {
   "cell_type": "code",
   "execution_count": 1,
   "metadata": {},
   "outputs": [],
   "source": [
    "from process_cornell import ENCODING\n",
    "from process_cornell import TRAIN_PATH\n",
    "from process_cornell import VAL_PATH\n",
    "from utils import load_data\n",
    "\n",
    "train = load_data(ENCODING, TRAIN_PATH)\n",
    "val = load_data(ENCODING, VAL_PATH)"
   ]
  },
  {
   "cell_type": "markdown",
   "metadata": {},
   "source": [
    "## Create the vocabulary"
   ]
  },
  {
   "cell_type": "code",
   "execution_count": 2,
   "metadata": {},
   "outputs": [],
   "source": [
    "from collections import Counter\n",
    "from itertools import chain\n",
    "from vocab import Vocab\n",
    "\n",
    "\n",
    "max_vocab_size = 20000\n",
    "\n",
    "tokens = []\n",
    "for q,a in train:\n",
    "    tokens.extend(chain(q, a))\n",
    "    \n",
    "counts = Counter(tokens)\n",
    "most_common = [token for token, count in counts.most_common(max_vocab_size)]\n",
    "vocab = Vocab()\n",
    "for token in most_common:\n",
    "    vocab.add_token(token)"
   ]
  },
  {
   "cell_type": "markdown",
   "metadata": {},
   "source": [
    "## Convert strings to label encoded sequences"
   ]
  },
  {
   "cell_type": "code",
   "execution_count": 3,
   "metadata": {},
   "outputs": [],
   "source": [
    "for i in range(len(train)):\n",
    "    q, a = train[i]\n",
    "    q.append(Vocab.EOS_TOKEN)\n",
    "    a.append(Vocab.EOS_TOKEN)\n",
    "    a.insert(0, Vocab.SOS_TOKEN)\n",
    "    train[i] = (vocab.label_encode(q), vocab.label_encode(a))\n",
    "\n",
    "for i in range(len(val)):\n",
    "    q, a = val[i]\n",
    "    q.append(Vocab.EOS_TOKEN)\n",
    "    a.append(Vocab.EOS_TOKEN)\n",
    "    a.insert(0, Vocab.SOS_TOKEN)\n",
    "    val[i] = (vocab.label_encode(q), vocab.label_encode(a))"
   ]
  },
  {
   "cell_type": "markdown",
   "metadata": {},
   "source": [
    "## Train Model"
   ]
  },
  {
   "cell_type": "code",
   "execution_count": 4,
   "metadata": {},
   "outputs": [
    {
     "name": "stderr",
     "output_type": "stream",
     "text": [
      "/Users/andy/Documents/Courses/1012_NLU/Project/Code/chatbot/models.py:46: UserWarning: Implicit dimension choice for log_softmax has been deprecated. Change the call to include dim=X as an argument.\n",
      "  result[i] = self.softmax(linear_output[i])\n",
      "/Users/andy/Documents/Courses/1012_NLU/Project/Code/chatbot/train.py:51: UserWarning: volatile was removed and now has no effect. Use `with torch.no_grad():` instead.\n",
      "  questions = Variable(torch.LongTensor(questions), volatile=inference_only)\n",
      "/Users/andy/Documents/Courses/1012_NLU/Project/Code/chatbot/train.py:52: UserWarning: volatile was removed and now has no effect. Use `with torch.no_grad():` instead.\n",
      "  answers = Variable(torch.LongTensor(answers), volatile=inference_only)\n",
      "/Users/andy/anaconda3/lib/python3.6/site-packages/ipykernel_launcher.py:45: UserWarning: invalid index of a 0-dim tensor. This will be an error in PyTorch 0.5. Use tensor.item() to convert a 0-dim tensor to a Python number\n",
      "/Users/andy/anaconda3/lib/python3.6/site-packages/ipykernel_launcher.py:46: UserWarning: invalid index of a 0-dim tensor. This will be an error in PyTorch 0.5. Use tensor.item() to convert a 0-dim tensor to a Python number\n"
     ]
    },
    {
     "ename": "KeyboardInterrupt",
     "evalue": "",
     "output_type": "error",
     "traceback": [
      "\u001b[0;31m---------------------------------------------------------------------------\u001b[0m",
      "\u001b[0;31mKeyboardInterrupt\u001b[0m                         Traceback (most recent call last)",
      "\u001b[0;32m<ipython-input-4-5693aa9eff5e>\u001b[0m in \u001b[0;36m<module>\u001b[0;34m()\u001b[0m\n\u001b[1;32m     38\u001b[0m     \u001b[0mtrain_loss\u001b[0m \u001b[0;34m=\u001b[0m \u001b[0mget_loss\u001b[0m\u001b[0;34m(\u001b[0m\u001b[0mmodel\u001b[0m\u001b[0;34m,\u001b[0m \u001b[0mtrain_batch\u001b[0m\u001b[0;34m)\u001b[0m\u001b[0;34m\u001b[0m\u001b[0m\n\u001b[1;32m     39\u001b[0m     \u001b[0moptimizer\u001b[0m\u001b[0;34m.\u001b[0m\u001b[0mzero_grad\u001b[0m\u001b[0;34m(\u001b[0m\u001b[0;34m)\u001b[0m\u001b[0;34m\u001b[0m\u001b[0m\n\u001b[0;32m---> 40\u001b[0;31m     \u001b[0mtrain_loss\u001b[0m\u001b[0;34m.\u001b[0m\u001b[0mbackward\u001b[0m\u001b[0;34m(\u001b[0m\u001b[0;34m)\u001b[0m\u001b[0;34m\u001b[0m\u001b[0m\n\u001b[0m\u001b[1;32m     41\u001b[0m     \u001b[0moptimizer\u001b[0m\u001b[0;34m.\u001b[0m\u001b[0mstep\u001b[0m\u001b[0;34m(\u001b[0m\u001b[0;34m)\u001b[0m\u001b[0;34m\u001b[0m\u001b[0m\n\u001b[1;32m     42\u001b[0m \u001b[0;34m\u001b[0m\u001b[0m\n",
      "\u001b[0;32m~/anaconda3/lib/python3.6/site-packages/torch/tensor.py\u001b[0m in \u001b[0;36mbackward\u001b[0;34m(self, gradient, retain_graph, create_graph)\u001b[0m\n\u001b[1;32m     91\u001b[0m                 \u001b[0mproducts\u001b[0m\u001b[0;34m.\u001b[0m \u001b[0mDefaults\u001b[0m \u001b[0mto\u001b[0m\u001b[0;31m \u001b[0m\u001b[0;31m`\u001b[0m\u001b[0;31m`\u001b[0m\u001b[0;32mFalse\u001b[0m\u001b[0;31m`\u001b[0m\u001b[0;31m`\u001b[0m\u001b[0;34m.\u001b[0m\u001b[0;34m\u001b[0m\u001b[0m\n\u001b[1;32m     92\u001b[0m         \"\"\"\n\u001b[0;32m---> 93\u001b[0;31m         \u001b[0mtorch\u001b[0m\u001b[0;34m.\u001b[0m\u001b[0mautograd\u001b[0m\u001b[0;34m.\u001b[0m\u001b[0mbackward\u001b[0m\u001b[0;34m(\u001b[0m\u001b[0mself\u001b[0m\u001b[0;34m,\u001b[0m \u001b[0mgradient\u001b[0m\u001b[0;34m,\u001b[0m \u001b[0mretain_graph\u001b[0m\u001b[0;34m,\u001b[0m \u001b[0mcreate_graph\u001b[0m\u001b[0;34m)\u001b[0m\u001b[0;34m\u001b[0m\u001b[0m\n\u001b[0m\u001b[1;32m     94\u001b[0m \u001b[0;34m\u001b[0m\u001b[0m\n\u001b[1;32m     95\u001b[0m     \u001b[0;32mdef\u001b[0m \u001b[0mregister_hook\u001b[0m\u001b[0;34m(\u001b[0m\u001b[0mself\u001b[0m\u001b[0;34m,\u001b[0m \u001b[0mhook\u001b[0m\u001b[0;34m)\u001b[0m\u001b[0;34m:\u001b[0m\u001b[0;34m\u001b[0m\u001b[0m\n",
      "\u001b[0;32m~/anaconda3/lib/python3.6/site-packages/torch/autograd/__init__.py\u001b[0m in \u001b[0;36mbackward\u001b[0;34m(tensors, grad_tensors, retain_graph, create_graph, grad_variables)\u001b[0m\n\u001b[1;32m     88\u001b[0m     Variable._execution_engine.run_backward(\n\u001b[1;32m     89\u001b[0m         \u001b[0mtensors\u001b[0m\u001b[0;34m,\u001b[0m \u001b[0mgrad_tensors\u001b[0m\u001b[0;34m,\u001b[0m \u001b[0mretain_graph\u001b[0m\u001b[0;34m,\u001b[0m \u001b[0mcreate_graph\u001b[0m\u001b[0;34m,\u001b[0m\u001b[0;34m\u001b[0m\u001b[0m\n\u001b[0;32m---> 90\u001b[0;31m         allow_unreachable=True)  # allow_unreachable flag\n\u001b[0m\u001b[1;32m     91\u001b[0m \u001b[0;34m\u001b[0m\u001b[0m\n\u001b[1;32m     92\u001b[0m \u001b[0;34m\u001b[0m\u001b[0m\n",
      "\u001b[0;31mKeyboardInterrupt\u001b[0m: "
     ]
    }
   ],
   "source": [
    "import time\n",
    "import random\n",
    "\n",
    "import numpy as np\n",
    "import torch.cuda\n",
    "from torch.optim import Adam\n",
    "\n",
    "from models import NCM\n",
    "from vocab import Vocab\n",
    "from train import get_loss\n",
    "\n",
    "\n",
    "torch.cuda.manual_seed_all(42)\n",
    "\n",
    "print_iters = 100\n",
    "iters = 15000\n",
    "\n",
    "batch_size = 64\n",
    "hidden_size = 256\n",
    "embedding_size = 32\n",
    "num_layers = 2\n",
    "\n",
    "\n",
    "start_time = time.time()\n",
    "\n",
    "model = NCM(len(vocab), embedding_size, hidden_size, num_layers).cuda()\n",
    "optimizer = Adam(model.parameters())\n",
    "torch.save(model.state_dict(), 'chat.init')\n",
    "\n",
    "train_losses = []\n",
    "val_losses = []\n",
    "\n",
    "iter_start_time = time.time()\n",
    "for i in range(1, iters + 1):\n",
    "    train_batch = [random.choice(train) for _ in range(batch_size)]\n",
    "    val_batch = [random.choice(val) for _ in range(batch_size)]\n",
    "\n",
    "    train_loss = get_loss(model, train_batch)\n",
    "    optimizer.zero_grad()\n",
    "    train_loss.backward()\n",
    "    optimizer.step()\n",
    "\n",
    "    val_loss = get_loss(model, val_batch, inference_only=True)\n",
    "\n",
    "    train_losses.append(train_loss.data[0])\n",
    "    val_losses.append(val_loss.data[0])\n",
    "\n",
    "    if i % print_iters == 0:\n",
    "        iter_end_time = time.time()\n",
    "\n",
    "        avg_train_loss = sum(train_losses[-print_iters:]) / print_iters\n",
    "        avg_val_loss = sum(val_losses[-print_iters:]) / print_iters\n",
    "\n",
    "        epoch = (batch_size * i) / len(train)\n",
    "\n",
    "        string = 'epoch: {}, iters: {}, train loss: {:.2f}, val loss: {:.2f}, time: {:.2f} s'\n",
    "        print(string.format(epoch, i, avg_train_loss, avg_val_loss, iter_end_time - iter_start_time))\n",
    "\n",
    "        iter_start_time = time.time()\n",
    "        \n",
    "    if i == 2000:  # val minimum\n",
    "        torch.save(model.state_dict(), 'chat.min')\n",
    "\n",
    "torch.save(model.state_dict(), 'chat.final')\n",
    "\n",
    "end_time = time.time()\n",
    "seconds_per_hour = 60.**2\n",
    "print('\\nTotal time: {:.2f} hours\\n'.format((end_time - start_time) / seconds_per_hour))"
   ]
  },
  {
   "cell_type": "markdown",
   "metadata": {},
   "source": [
    "## Plot losses"
   ]
  },
  {
   "cell_type": "code",
   "execution_count": 58,
   "metadata": {},
   "outputs": [],
   "source": [
    "from bokeh.plotting import figure, show\n",
    "from bokeh.io import output_notebook\n",
    "\n",
    "output_notebook()\n",
    "\n",
    "p = figure(y_axis_label='perplexity', x_axis_label='iters')\n",
    "p.line(range(iters), train_losses, legend='train')\n",
    "p.line(range(iters), val_losses, legend='val', color='orange')\n",
    "show(p)"
   ]
  }
 ],
 "metadata": {
  "kernelspec": {
   "display_name": "Python 3",
   "language": "python",
   "name": "python3"
  },
  "language_info": {
   "codemirror_mode": {
    "name": "ipython",
    "version": 3
   },
   "file_extension": ".py",
   "mimetype": "text/x-python",
   "name": "python",
   "nbconvert_exporter": "python",
   "pygments_lexer": "ipython3",
   "version": "3.6.4"
  }
 },
 "nbformat": 4,
 "nbformat_minor": 2
}
